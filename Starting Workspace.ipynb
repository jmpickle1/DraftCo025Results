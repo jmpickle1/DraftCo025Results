{
 "cells": [
  {
   "cell_type": "code",
   "execution_count": 33,
   "id": "849ac910",
   "metadata": {},
   "outputs": [
    {
     "name": "stdout",
     "output_type": "stream",
     "text": [
      "Hello from RPM virtual environment!\n"
     ]
    }
   ],
   "source": [
    "import numpy as np\n",
    "import pandas as pd\n",
    "import cfbd\n",
    "import streamlit as st\n",
    "import altair as alt\n",
    "import plotly.express as px\n",
    "print(\"Hello from RPM virtual environment!\")\n"
   ]
  },
  {
   "cell_type": "code",
   "execution_count": null,
   "id": "1bf1fef4",
   "metadata": {},
   "outputs": [],
   "source": [
    "#Load in the Data\n",
    "proday2025 = pd.read_excel(r\"/Users/jacobpickle/Documents/RPM/2025 Pro Day Data/2025 Individual Results.xlsx\")\n",
    "\n",
    "print(proday2025)"
   ]
  },
  {
   "cell_type": "code",
   "execution_count": 37,
   "id": "e4cbb940",
   "metadata": {},
   "outputs": [
    {
     "name": "stderr",
     "output_type": "stream",
     "text": [
      "2025-07-13 14:13:47.063 Thread 'MainThread': missing ScriptRunContext! This warning can be ignored when running in bare mode.\n"
     ]
    },
    {
     "data": {
      "text/plain": [
       "ThemeRegistry.enable('dark')"
      ]
     },
     "execution_count": 37,
     "metadata": {},
     "output_type": "execute_result"
    }
   ],
   "source": [
    "#Configure the Page with title and Layout\n",
    "st.set_page_config(\n",
    "    page_title = \"2025 Pro Day Results\",\n",
    "    layout = \"wide\",\n",
    "    initial_sidebar_state= \"expanded\"\n",
    ")\n",
    "\n",
    "alt.themes.enable(\"dark\")"
   ]
  },
  {
   "cell_type": "code",
   "execution_count": 38,
   "id": "dcccf652",
   "metadata": {},
   "outputs": [
    {
     "name": "stderr",
     "output_type": "stream",
     "text": [
      "2025-07-13 14:13:50.723 Serialization of dataframe to Arrow table was unsuccessful. Applying automatic fixes for column types to make the dataframe Arrow-compatible.\n",
      "Traceback (most recent call last):\n",
      "  File \"/Users/jacobpickle/Documents/RPM/venv/lib/python3.11/site-packages/streamlit/dataframe_util.py\", line 822, in convert_pandas_df_to_arrow_bytes\n",
      "    table = pa.Table.from_pandas(df)\n",
      "            ^^^^^^^^^^^^^^^^^^^^^^^^\n",
      "  File \"pyarrow/table.pxi\", line 4793, in pyarrow.lib.Table.from_pandas\n",
      "  File \"/Users/jacobpickle/Documents/RPM/venv/lib/python3.11/site-packages/pyarrow/pandas_compat.py\", line 652, in dataframe_to_arrays\n",
      "    arrays[i] = maybe_fut.result()\n",
      "                ^^^^^^^^^^^^^^^^^^\n",
      "  File \"/Users/jacobpickle/anaconda3/lib/python3.11/concurrent/futures/_base.py\", line 449, in result\n",
      "    return self.__get_result()\n",
      "           ^^^^^^^^^^^^^^^^^^^\n",
      "  File \"/Users/jacobpickle/anaconda3/lib/python3.11/concurrent/futures/_base.py\", line 401, in __get_result\n",
      "    raise self._exception\n",
      "  File \"/Users/jacobpickle/anaconda3/lib/python3.11/concurrent/futures/thread.py\", line 58, in run\n",
      "    result = self.fn(*self.args, **self.kwargs)\n",
      "             ^^^^^^^^^^^^^^^^^^^^^^^^^^^^^^^^^^\n",
      "  File \"/Users/jacobpickle/Documents/RPM/venv/lib/python3.11/site-packages/pyarrow/pandas_compat.py\", line 626, in convert_column\n",
      "    raise e\n",
      "  File \"/Users/jacobpickle/Documents/RPM/venv/lib/python3.11/site-packages/pyarrow/pandas_compat.py\", line 620, in convert_column\n",
      "    result = pa.array(col, type=type_, from_pandas=True, safe=safe)\n",
      "             ^^^^^^^^^^^^^^^^^^^^^^^^^^^^^^^^^^^^^^^^^^^^^^^^^^^^^^\n",
      "  File \"pyarrow/array.pxi\", line 365, in pyarrow.lib.array\n",
      "  File \"pyarrow/array.pxi\", line 90, in pyarrow.lib._ndarray_to_array\n",
      "  File \"pyarrow/error.pxi\", line 92, in pyarrow.lib.check_status\n",
      "pyarrow.lib.ArrowInvalid: (\"Could not convert '--' with type str: tried to convert to int64\", 'Conversion failed for column Height with type object')\n",
      "/Users/jacobpickle/Documents/RPM/venv/lib/python3.11/site-packages/streamlit/dataframe_util.py:831: UserWarning: The DataFrame has column names of mixed type. They will be converted to strings and not roundtrip correctly.\n",
      "  table = pa.Table.from_pandas(df)\n",
      "2025-07-13 14:13:50.756 Thread 'MainThread': missing ScriptRunContext! This warning can be ignored when running in bare mode.\n",
      "2025-07-13 14:13:50.757 Thread 'MainThread': missing ScriptRunContext! This warning can be ignored when running in bare mode.\n",
      "2025-07-13 14:13:50.758 Thread 'MainThread': missing ScriptRunContext! This warning can be ignored when running in bare mode.\n",
      "2025-07-13 14:13:50.761 Thread 'MainThread': missing ScriptRunContext! This warning can be ignored when running in bare mode.\n",
      "2025-07-13 14:13:50.762 Thread 'MainThread': missing ScriptRunContext! This warning can be ignored when running in bare mode.\n",
      "2025-07-13 14:13:50.763 Thread 'MainThread': missing ScriptRunContext! This warning can be ignored when running in bare mode.\n",
      "2025-07-13 14:13:50.764 Thread 'MainThread': missing ScriptRunContext! This warning can be ignored when running in bare mode.\n",
      "2025-07-13 14:13:50.765 Thread 'MainThread': missing ScriptRunContext! This warning can be ignored when running in bare mode.\n",
      "2025-07-13 14:13:50.766 Thread 'MainThread': missing ScriptRunContext! This warning can be ignored when running in bare mode.\n",
      "2025-07-13 14:13:50.768 Thread 'MainThread': missing ScriptRunContext! This warning can be ignored when running in bare mode.\n"
     ]
    }
   ],
   "source": [
    "#Set up Elements for Just the Data Frame\n",
    "st.dataframe (proday2025)\n",
    "\n",
    "col = st.columns ((6))\n",
    "\n"
   ]
  }
 ],
 "metadata": {
  "kernelspec": {
   "display_name": "venv",
   "language": "python",
   "name": "python3"
  },
  "language_info": {
   "codemirror_mode": {
    "name": "ipython",
    "version": 3
   },
   "file_extension": ".py",
   "mimetype": "text/x-python",
   "name": "python",
   "nbconvert_exporter": "python",
   "pygments_lexer": "ipython3",
   "version": "3.11.5"
  }
 },
 "nbformat": 4,
 "nbformat_minor": 5
}
